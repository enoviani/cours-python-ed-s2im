{
 "metadata": {
  "name": "",
  "signature": "sha256:8964df9678780343437137b884e07b7139fc82f302c6a0b60b928bea183cd7cf"
 },
 "nbformat": 3,
 "nbformat_minor": 0,
 "worksheets": [
  {
   "cells": [
    {
     "cell_type": "markdown",
     "metadata": {},
     "source": [
      "Write a program that calculates the area $A$ of a triangle using the\n",
      "formula\n",
      "\n",
      "$A = \\frac{1}{2} \\left|\\left(\\mathbf{p}_1-\\mathbf{p}_2\\right)\n",
      "     \\times \\left(\\mathbf{p}_3-\\mathbf{p}_2\\right)\\right|$\n",
      "     \n",
      "Ici $\\mathbf{p}_i$ sont des points dans l'espace, avec trois composantes $x$, $y$, $z$. Il est recommend\u00e9 d'utiliser un tableau NumPy de taille 3 pour chaque point."
     ]
    },
    {
     "cell_type": "code",
     "collapsed": false,
     "input": [],
     "language": "python",
     "metadata": {},
     "outputs": []
    },
    {
     "cell_type": "markdown",
     "metadata": {},
     "source": [
      "Write a program that reads a file containing a table of numbers and\n",
      "sums up all numbers in the second column."
     ]
    },
    {
     "cell_type": "code",
     "collapsed": false,
     "input": [],
     "language": "python",
     "metadata": {},
     "outputs": []
    },
    {
     "cell_type": "markdown",
     "metadata": {},
     "source": [
      "The XYZ format is a very simple (and limited) format\n",
      "for storing molecular configurations, which is used by several\n",
      "programs. The first line contains the number of atoms, the second line\n",
      "a comment, and the remaining lines contain one atom each, with four\n",
      "entries: first the element symbol (e.g. 'C' for carbon), and then the\n",
      "coordinates x, y, and z. The entries are separated by one or more\n",
      "spaces. This is an example for a single water molecule:\n",
      "\n",
      "   ```\n",
      "   3\n",
      "   One water molecule\n",
      "   O 0.  0.     0.\n",
      "   H 0.  0.957  0.\n",
      "   H 0. -0.24  -0.927\n",
      "   ```"
     ]
    },
    {
     "cell_type": "code",
     "collapsed": false,
     "input": [],
     "language": "python",
     "metadata": {},
     "outputs": []
    },
    {
     "cell_type": "markdown",
     "metadata": {},
     "source": [
      "Create these two arrays:\n",
      "\n",
      "```\n",
      "[[0. 0. 0. 0. 0.]\n",
      " [2. 0. 0. 0. 0.]\n",
      " [0. 3. 0. 0. 0.]\n",
      " [0. 0. 4. 0. 0.]\n",
      " [0. 0. 0. 5. 0.]\n",
      " [0. 0. 0. 0. 6.]]\n",
      "```\n",
      "\n",
      "```\n",
      "[[ 1  1  1  1]\n",
      " [ 1  1  1  1]\n",
      " [ 1  1  1  2]\n",
      " [ 1  6  1  1]]\n",
      "```"
     ]
    },
    {
     "cell_type": "code",
     "collapsed": false,
     "input": [],
     "language": "python",
     "metadata": {},
     "outputs": []
    },
    {
     "cell_type": "markdown",
     "metadata": {},
     "source": [
      "Write a function that takes two 1-d array arguments $a$ and $b$ and\n",
      "returns their tensorial product, a 2-d array whose elements are\n",
      "defined by $t_{ij} = a_i \\times b_j$.\n",
      "\n",
      "Note: il y a une fonction NumPy qui fait \u00e7a mais il est plus instructif de le faire \"\u00e0 la main\"."
     ]
    },
    {
     "cell_type": "code",
     "collapsed": false,
     "input": [],
     "language": "python",
     "metadata": {},
     "outputs": []
    },
    {
     "cell_type": "markdown",
     "metadata": {},
     "source": [
      "Write a function that takes a 1-d array argument and returns another\n",
      "1-d array which contains only the positive elements of the argument."
     ]
    },
    {
     "cell_type": "code",
     "collapsed": false,
     "input": [],
     "language": "python",
     "metadata": {},
     "outputs": []
    },
    {
     "cell_type": "markdown",
     "metadata": {},
     "source": [
      "Write a function that takes a 2-d $N\\times 2$ array $f$ that\n",
      "represents a function $y(x)$ evaluated on a grid. $f[:, 0]$ contains\n",
      "the $x$-values in increasing order (but not necessarily equidistant).\n",
      "$f[:, 1]$ contains the $y$-value. The return value is an array\n",
      "representing the numerical derivative $y'(x)$ using the same\n",
      "arrangement.\n"
     ]
    },
    {
     "cell_type": "code",
     "collapsed": false,
     "input": [],
     "language": "python",
     "metadata": {},
     "outputs": []
    },
    {
     "cell_type": "markdown",
     "metadata": {},
     "source": [
      "Write a function that fits a set of data points $(x, y)$ to a polynomial of a given order $N$,\n",
      "$ P_N(x) = \\sum_{i=0}^{N} a_i x^i $,\n",
      "and returns the fitted coefficients $a_i$.\n",
      "\n",
      "Don't forget error checking: the number of data points must be greater than the number of polynomial coefficients!\n",
      "\n",
      "Hint: Write the fitting problem as a linear least-squares fit problem of the form\n",
      "$  \\min_{a_j} \\sum_{j=0}^{N} (M_{ij} a_j - y_i)^2 $,\n",
      "where the elements of $M_{ij}$ are powers of the $x_i$. Use `numpy.linalg.lstsq` to solve this least-squares problem."
     ]
    },
    {
     "cell_type": "code",
     "collapsed": false,
     "input": [],
     "language": "python",
     "metadata": {},
     "outputs": []
    }
   ],
   "metadata": {}
  }
 ]
}